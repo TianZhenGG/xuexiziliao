{
 "cells": [
  {
   "cell_type": "code",
   "execution_count": 2,
   "id": "organic-learning",
   "metadata": {},
   "outputs": [],
   "source": [
    "import re"
   ]
  },
  {
   "cell_type": "markdown",
   "id": "worthy-fraction",
   "metadata": {},
   "source": [
    "# 匹配单个字符\n",
    "\n",
    "+ 字符     功能\n",
    "+  .       匹配任意一个字符（除了\\n）\n",
    "+  []      匹配[]中列举的字符\n",
    "+  \\d      匹配数字，0-9\n",
    "+  \\D      匹配非数字\n",
    "+  \\s      匹配空白，空格，tab键\n",
    "+  \\S      匹配非空白\n",
    "+  \\w      匹配单词字符，a-z,A-Z,0-9 _\n",
    "+  \\W      匹配非单词字符\n"
   ]
  },
  {
   "cell_type": "code",
   "execution_count": 3,
   "id": "chronic-pharmaceutical",
   "metadata": {},
   "outputs": [
    {
     "name": "stdout",
     "output_type": "stream",
     "text": [
      "too\n"
     ]
    }
   ],
   "source": [
    "word = re.match(\"t.o\",\"too\")\n",
    "print(word.group())"
   ]
  },
  {
   "cell_type": "code",
   "execution_count": 9,
   "id": "communist-credits",
   "metadata": {},
   "outputs": [
    {
     "data": {
      "text/plain": [
       "'张3'"
      ]
     },
     "execution_count": 9,
     "metadata": {},
     "output_type": "execute_result"
    }
   ],
   "source": [
    "word = re.match(\".\\d\",\"张3\")\n",
    "word.group()"
   ]
  },
  {
   "cell_type": "markdown",
   "id": "ecological-ireland",
   "metadata": {},
   "source": [
    "# 匹配多个字符\n",
    "+ \"*\"       匹配前一个字符出现0次或者无限次\n",
    "+ \"+\"       匹配前一个出现一次或者无限次，至少一次\n",
    "+ \"?\"       匹配前一个出现1次或者0次，要么一次，要么没有\n",
    "+ \"{m}\"     匹配前一个出现m次\n",
    "+ \"{m,n}\"   匹配一个出现从m到n次"
   ]
  },
  {
   "cell_type": "code",
   "execution_count": 11,
   "id": "confused-chart",
   "metadata": {},
   "outputs": [
    {
     "data": {
      "text/plain": [
       "'M'"
      ]
     },
     "execution_count": 11,
     "metadata": {},
     "output_type": "execute_result"
    }
   ],
   "source": [
    "word = re.match(\"[A-Z][a-z]*\",\"M\")\n",
    "word.group()"
   ]
  },
  {
   "cell_type": "markdown",
   "id": "adaptive-guest",
   "metadata": {},
   "source": [
    "# 匹配开头结尾\n",
    "+ “^” 匹配字符串开头\n",
    "+ “$” 匹配字符串结尾"
   ]
  },
  {
   "cell_type": "markdown",
   "id": "identified-piece",
   "metadata": {},
   "source": [
    "# 匹配分组\n",
    "+ “|”            匹配左右任意一个分组\n",
    "+ “(ab)”         将括号中字符串作为一个分组\n",
    "+ “\\num”         引用分组num匹配到字符串\n",
    "+ “(？P<name>)”   分组起别名  \n",
    "+ “(?P=name)”    引用别名为name分组匹配到的字符串 "
   ]
  },
  {
   "cell_type": "markdown",
   "id": "unique-sleep",
   "metadata": {},
   "source": [
    "# re 的serch 模块"
   ]
  },
  {
   "cell_type": "code",
   "execution_count": 12,
   "id": "inappropriate-shelter",
   "metadata": {},
   "outputs": [
    {
     "data": {
      "text/plain": [
       "'3'"
      ]
     },
     "execution_count": 12,
     "metadata": {},
     "output_type": "execute_result"
    }
   ],
   "source": [
    "word = re.search(r\"\\d+\",\"法外狂徒张3\")\n",
    "word.group()"
   ]
  },
  {
   "cell_type": "markdown",
   "id": "norwegian-lingerie",
   "metadata": {},
   "source": [
    "# re 的模块findall"
   ]
  },
  {
   "cell_type": "code",
   "execution_count": 13,
   "id": "fatal-interpretation",
   "metadata": {},
   "outputs": [
    {
     "data": {
      "text/plain": [
       "['3', '4']"
      ]
     },
     "execution_count": 13,
     "metadata": {},
     "output_type": "execute_result"
    }
   ],
   "source": [
    "word = re.findall(r\"\\d+\",\"python=张3,go=李4\")\n",
    "word"
   ]
  },
  {
   "cell_type": "code",
   "execution_count": 14,
   "id": "polish-london",
   "metadata": {},
   "outputs": [],
   "source": [
    "# re 的sub模块"
   ]
  },
  {
   "cell_type": "code",
   "execution_count": 15,
   "id": "cardiac-implementation",
   "metadata": {},
   "outputs": [
    {
     "data": {
      "text/plain": [
       "'python=007'"
      ]
     },
     "execution_count": 15,
     "metadata": {},
     "output_type": "execute_result"
    }
   ],
   "source": [
    "word = re.sub(r\"\\d+\",\"007\",\"python=996\")\n",
    "word"
   ]
  },
  {
   "cell_type": "code",
   "execution_count": 17,
   "id": "brave-image",
   "metadata": {},
   "outputs": [
    {
     "data": {
      "text/plain": [
       "['', '张', '三', '：', '法', '外', '狂', '徒', ' ', '9', '9', '6', ' ', '李', '四', '']"
      ]
     },
     "execution_count": 17,
     "metadata": {},
     "output_type": "execute_result"
    }
   ],
   "source": [
    "word = re.split(r\":|\",\"张三：法外狂徒 996 李四\")\n",
    "word"
   ]
  },
  {
   "cell_type": "markdown",
   "id": "focal-imaging",
   "metadata": {},
   "source": [
    "# python的贪婪和非贪婪\n"
   ]
  },
  {
   "cell_type": "code",
   "execution_count": 18,
   "id": "engaging-sarah",
   "metadata": {},
   "outputs": [
    {
     "data": {
      "text/plain": [
       "'3-343244'"
      ]
     },
     "execution_count": 18,
     "metadata": {},
     "output_type": "execute_result"
    }
   ],
   "source": [
    "word = re.match(\".+(\\d+-\\d+)\",\"zhangsan-lisi-213223-343244\")\n",
    "word.group(1)"
   ]
  },
  {
   "cell_type": "code",
   "execution_count": 19,
   "id": "reliable-apparel",
   "metadata": {},
   "outputs": [
    {
     "data": {
      "text/plain": [
       "'213223-343244'"
      ]
     },
     "execution_count": 19,
     "metadata": {},
     "output_type": "execute_result"
    }
   ],
   "source": [
    "word = re.match(\".+?(\\d+-\\d+)\",\"zhangsan-lisi-213223-343244\")\n",
    "word.group(1)"
   ]
  },
  {
   "cell_type": "code",
   "execution_count": null,
   "id": "reduced-husband",
   "metadata": {},
   "outputs": [],
   "source": []
  },
  {
   "cell_type": "code",
   "execution_count": null,
   "id": "technical-atmosphere",
   "metadata": {},
   "outputs": [],
   "source": []
  },
  {
   "cell_type": "code",
   "execution_count": null,
   "id": "living-python",
   "metadata": {},
   "outputs": [],
   "source": []
  },
  {
   "cell_type": "code",
   "execution_count": null,
   "id": "alpha-testimony",
   "metadata": {},
   "outputs": [],
   "source": []
  },
  {
   "cell_type": "code",
   "execution_count": null,
   "id": "fatty-introduction",
   "metadata": {},
   "outputs": [],
   "source": []
  },
  {
   "cell_type": "code",
   "execution_count": null,
   "id": "several-volleyball",
   "metadata": {},
   "outputs": [],
   "source": []
  },
  {
   "cell_type": "code",
   "execution_count": null,
   "id": "medical-literacy",
   "metadata": {},
   "outputs": [],
   "source": []
  },
  {
   "cell_type": "code",
   "execution_count": null,
   "id": "fixed-jacket",
   "metadata": {},
   "outputs": [],
   "source": []
  },
  {
   "cell_type": "code",
   "execution_count": null,
   "id": "atomic-theology",
   "metadata": {},
   "outputs": [],
   "source": []
  }
 ],
 "metadata": {
  "kernelspec": {
   "display_name": "Python 3",
   "language": "python",
   "name": "python3"
  },
  "language_info": {
   "codemirror_mode": {
    "name": "ipython",
    "version": 3
   },
   "file_extension": ".py",
   "mimetype": "text/x-python",
   "name": "python",
   "nbconvert_exporter": "python",
   "pygments_lexer": "ipython3",
   "version": "3.8.5"
  }
 },
 "nbformat": 4,
 "nbformat_minor": 5
}
